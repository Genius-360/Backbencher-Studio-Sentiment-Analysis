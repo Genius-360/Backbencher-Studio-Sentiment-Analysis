{
  "nbformat": 4,
  "nbformat_minor": 0,
  "metadata": {
    "colab": {
      "provenance": [],
      "gpuType": "T4"
    },
    "kernelspec": {
      "name": "python3",
      "display_name": "Python 3"
    },
    "language_info": {
      "name": "python"
    },
    "accelerator": "GPU"
  },
  "cells": [
    {
      "cell_type": "markdown",
      "source": [
        "# AI Engineer Task: IMDb Movie Review Sentiment Analysis\n",
        "This notebook contains the complete solution for the sentiment analysis task. The process includes data preparation, training a Logistic Regression model, optimizing it with GridSearchCV, and building an optional LSTM deep learning model."
      ],
      "metadata": {
        "id": "xltnpzPBrmnN"
      }
    },
    {
      "cell_type": "code",
      "execution_count": 17,
      "metadata": {
        "colab": {
          "base_uri": "https://localhost:8080/"
        },
        "id": "gklPuz0oIs2D",
        "outputId": "f0ed92dc-1279-420e-e3d9-020d360dd364"
      },
      "outputs": [
        {
          "output_type": "stream",
          "name": "stderr",
          "text": [
            "[nltk_data] Downloading package stopwords to /root/nltk_data...\n",
            "[nltk_data]   Package stopwords is already up-to-date!\n"
          ]
        },
        {
          "output_type": "execute_result",
          "data": {
            "text/plain": [
              "True"
            ]
          },
          "metadata": {},
          "execution_count": 17
        }
      ],
      "source": [
        "# Import necessary libraries\n",
        "import pandas as pd\n",
        "import numpy as np\n",
        "import re\n",
        "import nltk\n",
        "from nltk.corpus import stopwords\n",
        "from sklearn.model_selection import train_test_split\n",
        "from sklearn.feature_extraction.text import TfidfVectorizer\n",
        "from sklearn.linear_model import LogisticRegression\n",
        "from sklearn.naive_bayes import MultinomialNB\n",
        "from sklearn.metrics import accuracy_score, precision_score, recall_score, f1_score, confusion_matrix\n",
        "import seaborn as sns\n",
        "import matplotlib.pyplot as plt\n",
        "import pickle\n",
        "\n",
        "# Download NLTK stopwords\n",
        "nltk.download('stopwords')"
      ]
    },
    {
      "cell_type": "markdown",
      "source": [
        "## Step 1: Data Preparation and Cleaning"
      ],
      "metadata": {
        "id": "zBsm8m9ZrpiA"
      }
    },
    {
      "cell_type": "code",
      "source": [
        "# Load the datasets\n",
        "try:\n",
        "    train_df = pd.read_csv('train_data (1).csv')\n",
        "    test_df = pd.read_csv('test_data (1).csv')\n",
        "except FileNotFoundError:\n",
        "    print(\"Make sure 'train_data (1).csv' and 'test_data (1).csv' are uploaded to your Colab environment.\")\n",
        "\n",
        "# Display the first few rows of the training data\n",
        "print(\"Training Data Head:\")\n",
        "print(train_df.head())\n",
        "\n",
        "# Display the first few rows of the testing data\n",
        "print(\"\\nTesting Data Head:\")\n",
        "print(test_df.head())"
      ],
      "metadata": {
        "colab": {
          "base_uri": "https://localhost:8080/"
        },
        "id": "DXPD-VB6IzZp",
        "outputId": "643d6887-0466-438f-db5f-d17141625229"
      },
      "execution_count": 18,
      "outputs": [
        {
          "output_type": "stream",
          "name": "stdout",
          "text": [
            "Training Data Head:\n",
            "                                                   0  1\n",
            "0  This film is absolutely awful, but nevertheles...  0\n",
            "1  Well since seeing part's 1 through 3 I can hon...  0\n",
            "2  I got to see this film at a preview and was da...  1\n",
            "3  This adaptation positively butchers a classic ...  0\n",
            "4  Råzone is an awful movie! It is so simple. It ...  0\n",
            "\n",
            "Testing Data Head:\n",
            "                                                   0  1\n",
            "0  I did not enjoy the film Eraser whatsoever. It...  0\n",
            "1  Be very afraid of anyone who likes this film. ...  0\n",
            "2  The 3rd and last big screen spin off from the ...  0\n",
            "3  Barely three and a half years after just scrap...  1\n",
            "4  I'm a big fan of the demonic puppets. Looking ...  0\n"
          ]
        }
      ]
    },
    {
      "cell_type": "code",
      "source": [
        "# Define the text cleaning function\n",
        "stop_words = set(stopwords.words('english'))\n",
        "\n",
        "def clean_text(text):\n",
        "    # Remove HTML tags\n",
        "    text = re.sub(r'<.*?>', '', text)\n",
        "    # Remove punctuation and numbers\n",
        "    text = re.sub(r'[^a-zA-Z]', ' ', text)\n",
        "    # Convert to lowercase\n",
        "    text = text.lower()\n",
        "    # Tokenize the text and remove stopwords\n",
        "    words = text.split()\n",
        "    words = [w for w in words if not w in stop_words]\n",
        "    return ' '.join(words)\n",
        "\n",
        "# Apply the cleaning function to the review columns\n",
        "train_df['cleaned_review'] = train_df['0'].apply(clean_text)\n",
        "test_df['cleaned_review'] = test_df['0'].apply(clean_text)\n",
        "\n",
        "print(\"Cleaned Training Data Head:\")\n",
        "print(train_df[['0', 'cleaned_review']].head())"
      ],
      "metadata": {
        "colab": {
          "base_uri": "https://localhost:8080/"
        },
        "id": "j3sSJVAbJHrf",
        "outputId": "3253fc0d-e938-45a8-e47a-274c8946412c"
      },
      "execution_count": 19,
      "outputs": [
        {
          "output_type": "stream",
          "name": "stdout",
          "text": [
            "Cleaned Training Data Head:\n",
            "                                                   0  \\\n",
            "0  This film is absolutely awful, but nevertheles...   \n",
            "1  Well since seeing part's 1 through 3 I can hon...   \n",
            "2  I got to see this film at a preview and was da...   \n",
            "3  This adaptation positively butchers a classic ...   \n",
            "4  Råzone is an awful movie! It is so simple. It ...   \n",
            "\n",
            "                                      cleaned_review  \n",
            "0  film absolutely awful nevertheless hilarious t...  \n",
            "1  well since seeing part honestly say never made...  \n",
            "2  got see film preview dazzled typical romantic ...  \n",
            "3  adaptation positively butchers classic beloved...  \n",
            "4  r zone awful movie simple seems tried make mov...  \n"
          ]
        }
      ]
    },
    {
      "cell_type": "code",
      "source": [
        "# Splitting the training data\n",
        "X = train_df['cleaned_review']\n",
        "y = train_df['1'] # Assuming '1' is the sentiment column (0 for negative, 1 for positive)\n",
        "\n",
        "X_train, X_val, y_train, y_val = train_test_split(X, y, test_size=0.2, random_state=42)\n",
        "\n",
        "print(f\"Training set size: {len(X_train)}\")\n",
        "print(f\"Validation set size: {len(X_val)}\")"
      ],
      "metadata": {
        "colab": {
          "base_uri": "https://localhost:8080/"
        },
        "id": "7e50xfQwJNVM",
        "outputId": "4fc3a7ed-86f1-4ae3-91a5-1f4369319e13"
      },
      "execution_count": 20,
      "outputs": [
        {
          "output_type": "stream",
          "name": "stdout",
          "text": [
            "Training set size: 20000\n",
            "Validation set size: 5000\n"
          ]
        }
      ]
    },
    {
      "cell_type": "markdown",
      "source": [
        "## Step 2 & 3: Logistic Regression - Training, Evaluation, and Optimization\n",
        "### 2.1 Feature Engineering with TF-IDF"
      ],
      "metadata": {
        "id": "fAaz0wnOr1Fz"
      }
    },
    {
      "cell_type": "code",
      "source": [
        "# Initialize the TF-IDF Vectorizer\n",
        "# We use max_features=5000 to keep the vocabulary size manageable and focus on the most important words.\n",
        "tfidf_vectorizer = TfidfVectorizer(max_features=5000)\n",
        "\n",
        "# Fit the vectorizer ONLY on the training data to prevent data leakage from the validation set.\n",
        "X_train_tfidf = tfidf_vectorizer.fit_transform(X_train)\n",
        "\n",
        "# Transform the validation data using the already-fitted vectorizer.\n",
        "X_val_tfidf = tfidf_vectorizer.transform(X_val)"
      ],
      "metadata": {
        "id": "VlZRNMGDJQzC"
      },
      "execution_count": 21,
      "outputs": []
    },
    {
      "cell_type": "markdown",
      "source": [
        "### 2.2 Baseline Model Training & Evaluation"
      ],
      "metadata": {
        "id": "xHrDYDVHr3E5"
      }
    },
    {
      "cell_type": "code",
      "source": [
        "# Initialize and train the Logistic Regression model\n",
        "log_reg_model = LogisticRegression(random_state=42, max_iter=1000) # Increased max_iter for convergence\n",
        "log_reg_model.fit(X_train_tfidf, y_train)\n",
        "\n",
        "# Make predictions on the validation set\n",
        "y_pred_lr = log_reg_model.predict(X_val_tfidf)"
      ],
      "metadata": {
        "id": "T6NrZm_BJUhh"
      },
      "execution_count": 22,
      "outputs": []
    },
    {
      "cell_type": "code",
      "source": [
        "# Calculate evaluation metrics\n",
        "accuracy_lr = accuracy_score(y_val, y_pred_lr)\n",
        "precision_lr = precision_score(y_val, y_pred_lr)\n",
        "recall_lr = recall_score(y_val, y_pred_lr)\n",
        "f1_lr = f1_score(y_val, y_pred_lr)\n",
        "\n",
        "print(\"Logistic Regression Model Evaluation:\")\n",
        "print(f\"Accuracy: {accuracy_lr:.4f}\")\n",
        "print(f\"Precision: {precision_lr:.4f}\")\n",
        "print(f\"Recall: {recall_lr:.4f}\")\n",
        "print(f\"F1-score: {f1_lr:.4f}\")\n",
        "\n",
        "# Generate and display the confusion matrix\n",
        "cm_lr = confusion_matrix(y_val, y_pred_lr)\n",
        "plt.figure(figsize=(6, 4))\n",
        "sns.heatmap(cm_lr, annot=True, fmt='d', cmap='Blues', xticklabels=['Negative', 'Positive'], yticklabels=['Negative', 'Positive'])\n",
        "plt.xlabel('Predicted')\n",
        "plt.ylabel('Actual')\n",
        "plt.title('Logistic Regression Confusion Matrix')\n",
        "plt.show()"
      ],
      "metadata": {
        "colab": {
          "base_uri": "https://localhost:8080/",
          "height": 497
        },
        "id": "q_xAS0fZJXhC",
        "outputId": "36f1d2c0-1e70-4e51-c925-1dfab210f7ed"
      },
      "execution_count": 23,
      "outputs": [
        {
          "output_type": "stream",
          "name": "stdout",
          "text": [
            "Logistic Regression Model Evaluation:\n",
            "Accuracy: 0.8908\n",
            "Precision: 0.8706\n",
            "Recall: 0.9150\n",
            "F1-score: 0.8923\n"
          ]
        },
        {
          "output_type": "display_data",
          "data": {
            "text/plain": [
              "<Figure size 600x400 with 2 Axes>"
            ],
            "image/png": "[encoded data removed]"
          },
          "metadata": {}
        }
      ]
    },
    {
      "cell_type": "markdown",
      "source": [
        "### 2.3 Hyperparameter Optimization with GridSearchCV\n",
        "This step systematically searches for the best model parameters to fulfill the \"Optimize model parameters\" requirement."
      ],
      "metadata": {
        "id": "--dC-rKar6uA"
      }
    },
    {
      "cell_type": "code",
      "source": [
        "# (Add this import at the top of your first cell)\n",
        "from sklearn.model_selection import GridSearchCV\n",
        "\n",
        "# --- NEW CELL: Hyperparameter Tuning with GridSearchCV ---\n",
        "\n",
        "# Define the parameter grid to search\n",
        "param_grid = {\n",
        "    'C': [0.1, 1, 10],  # Regularization strength\n",
        "    'solver': ['liblinear', 'saga'] # Solvers that work well with L1/L2\n",
        "}\n",
        "\n",
        "# Initialize the Grid Search model\n",
        "grid_search = GridSearchCV(\n",
        "    LogisticRegression(random_state=42, max_iter=2000),\n",
        "    param_grid,\n",
        "    cv=3, # 3-fold cross-validation\n",
        "    scoring='accuracy',\n",
        "    verbose=1,\n",
        "    n_jobs=-1 # Use all available CPU cores\n",
        ")\n",
        "\n",
        "# Fit the grid search to the data\n",
        "print(\"Starting Grid Search for Logistic Regression...\")\n",
        "grid_search.fit(X_train_tfidf, y_train)\n",
        "\n",
        "# Print the best parameters and the best score\n",
        "print(f\"Best Parameters found: {grid_search.best_params_}\")\n",
        "print(f\"Best cross-validation accuracy: {grid_search.best_score_:.4f}\")\n",
        "\n",
        "# The grid_search object now holds the best model\n",
        "best_log_reg_model = grid_search.best_estimator_\n",
        "\n",
        "# (Optional) You can now re-evaluate this best model on your validation set\n",
        "# y_pred_best_lr = best_log_reg_model.predict(X_val_tfidf)\n",
        "# print(f\"Validation accuracy of best model: {accuracy_score(y_val, y_pred_best_lr):.4f}\")"
      ],
      "metadata": {
        "colab": {
          "base_uri": "https://localhost:8080/"
        },
        "id": "M0cq9AF8es0n",
        "outputId": "b3920331-b605-40ec-ae29-5f03df75a346"
      },
      "execution_count": 24,
      "outputs": [
        {
          "output_type": "stream",
          "name": "stdout",
          "text": [
            "Starting Grid Search for Logistic Regression...\n",
            "Fitting 3 folds for each of 6 candidates, totalling 18 fits\n",
            "Best Parameters found: {'C': 1, 'solver': 'liblinear'}\n",
            "Best cross-validation accuracy: 0.8766\n"
          ]
        }
      ]
    },
    {
      "cell_type": "markdown",
      "source": [
        "### 2.4 Saving the Best Model"
      ],
      "metadata": {
        "id": "3oPT_2O0r-GT"
      }
    },
    {
      "cell_type": "code",
      "source": [
        "# Save the BEST trained model and the vectorizer\n",
        "with open('best_logistic_regression_model.pkl', 'wb') as model_file:\n",
        "    # Save the best estimator found by Grid Search\n",
        "    pickle.dump(best_log_reg_model, model_file)\n",
        "\n",
        "with open('tfidf_vectorizer.pkl', 'wb') as vec_file:\n",
        "    pickle.dump(tfidf_vectorizer, vec_file)\n",
        "\n",
        "print(\"Best model and TF-IDF vectorizer saved successfully.\")"
      ],
      "metadata": {
        "colab": {
          "base_uri": "https://localhost:8080/"
        },
        "id": "Z0GSSzNmJaHs",
        "outputId": "571e0d6f-9169-4a32-c29d-bf50243b630b"
      },
      "execution_count": 25,
      "outputs": [
        {
          "output_type": "stream",
          "name": "stdout",
          "text": [
            "Model and TF-IDF vectorizer saved successfully.\n"
          ]
        }
      ]
    },
    {
      "cell_type": "markdown",
      "source": [
        "## Step 4 (Bonus): Deep Learning Model with LSTM\n",
        "### 4.1 Data Preparation for Deep Learning"
      ],
      "metadata": {
        "id": "5kveYSUzsAj2"
      }
    },
    {
      "cell_type": "code",
      "source": [
        "from tensorflow.keras.models import Sequential\n",
        "from tensorflow.keras.layers import Embedding, LSTM, Dense, SpatialDropout1D\n",
        "from tensorflow.keras.preprocessing.text import Tokenizer\n",
        "from tensorflow.keras.preprocessing.sequence import pad_sequences\n",
        "\n",
        "# Tokenize the text\n",
        "max_words = 10000\n",
        "# Define a fixed maximum length for sequences\n",
        "maxlen = 250\n",
        "\n",
        "tokenizer = Tokenizer(num_words=max_words, split=' ')\n",
        "tokenizer.fit_on_texts(train_df['cleaned_review'].values)\n",
        "\n",
        "X_dl = tokenizer.texts_to_sequences(train_df['cleaned_review'].values)\n",
        "# Apply padding and truncating\n",
        "X_dl = pad_sequences(X_dl, maxlen=maxlen)\n",
        "\n",
        "# Split the data\n",
        "y_dl = pd.get_dummies(train_df['1']).values\n",
        "X_train_dl, X_val_dl, y_train_dl, y_val_dl = train_test_split(X_dl, y_dl, test_size=0.2, random_state=42)\n",
        "\n",
        "print(f\"Shape of padded training data: {X_train_dl.shape}\")"
      ],
      "metadata": {
        "id": "6ImCvK9rJb_P",
        "colab": {
          "base_uri": "https://localhost:8080/"
        },
        "outputId": "319bf779-12f1-4538-aa34-eab69f8e39c6"
      },
      "execution_count": 26,
      "outputs": [
        {
          "output_type": "stream",
          "name": "stdout",
          "text": [
            "Shape of padded training data: (20000, 250)\n"
          ]
        }
      ]
    },
    {
      "cell_type": "markdown",
      "source": [
        "### 4.2 Building and Training the LSTM Model\n",
        "We include an EarlyStopping callback to prevent overfitting and save the best version of the model during training."
      ],
      "metadata": {
        "id": "0b0b2T8osDdM"
      }
    },
    {
      "cell_type": "code",
      "source": [
        "# (Add this import at the top of the cell)\n",
        "from tensorflow.keras.callbacks import EarlyStopping\n",
        "\n",
        "# Build the LSTM model\n",
        "embedding_dim = 128\n",
        "lstm_out = 196\n",
        "\n",
        "model_lstm = Sequential()\n",
        "# The input_length is now inferred automatically from the data shape\n",
        "model_lstm.add(Embedding(max_words, embedding_dim))\n",
        "model_lstm.add(SpatialDropout1D(0.4))\n",
        "model_lstm.add(LSTM(lstm_out, dropout=0.2, recurrent_dropout=0.2))\n",
        "model_lstm.add(Dense(2, activation='softmax'))\n",
        "model_lstm.compile(loss='categorical_crossentropy', optimizer='adam', metrics=['accuracy'])\n",
        "\n",
        "print(model_lstm.summary())\n",
        "\n",
        "# Train the model with Early Stopping\n",
        "batch_size = 32\n",
        "# This callback will stop training when 'val_loss' hasn't improved for 2 epochs\n",
        "early_stopping = EarlyStopping(monitor='val_loss', patience=2, restore_best_weights=True)\n",
        "\n",
        "model_lstm.fit(X_train_dl, y_train_dl,\n",
        "               epochs=10,  # We can set a higher epoch number; early stopping will handle it\n",
        "               batch_size=batch_size,\n",
        "               validation_data=(X_val_dl, y_val_dl),\n",
        "               callbacks=[early_stopping], # Add the callback here\n",
        "               verbose=2)"
      ],
      "metadata": {
        "colab": {
          "base_uri": "https://localhost:8080/",
          "height": 497
        },
        "id": "h9EMzXGFJfT0",
        "outputId": "2871e7bc-dc4b-41f8-d9d0-e716ff35832a"
      },
      "execution_count": 27,
      "outputs": [
        {
          "output_type": "display_data",
          "data": {
            "text/plain": [
              "\u001b[1mModel: \"sequential_2\"\u001b[0m\n"
            ],
            "text/html": [
              "<pre style=\"white-space:pre;overflow-x:auto;line-height:normal;font-family:Menlo,'DejaVu Sans Mono',consolas,'Courier New',monospace\"><span style=\"font-weight: bold\">Model: \"sequential_2\"</span>\n",
              "</pre>\n"
            ]
          },
          "metadata": {}
        },
        {
          "output_type": "display_data",
          "data": {
            "text/plain": [
              "┏━━━━━━━━━━━━━━━━━━━━━━━━━━━━━━━━━┳━━━━━━━━━━━━━━━━━━━━━━━━┳━━━━━━━━━━━━━━━┓\n",
              "┃\u001b[1m \u001b[0m\u001b[1mLayer (type)                   \u001b[0m\u001b[1m \u001b[0m┃\u001b[1m \u001b[0m\u001b[1mOutput Shape          \u001b[0m\u001b[1m \u001b[0m┃\u001b[1m \u001b[0m\u001b[1m      Param #\u001b[0m\u001b[1m \u001b[0m┃\n",
              "┡━━━━━━━━━━━━━━━━━━━━━━━━━━━━━━━━━╇━━━━━━━━━━━━━━━━━━━━━━━━╇━━━━━━━━━━━━━━━┩\n",
              "│ embedding_2 (\u001b[38;5;33mEmbedding\u001b[0m)         │ ?                      │   \u001b[38;5;34m0\u001b[0m (unbuilt) │\n",
              "├─────────────────────────────────┼────────────────────────┼───────────────┤\n",
              "│ spatial_dropout1d_2             │ ?                      │             \u001b[38;5;34m0\u001b[0m │\n",
              "│ (\u001b[38;5;33mSpatialDropout1D\u001b[0m)              │                        │               │\n",
              "├─────────────────────────────────┼────────────────────────┼───────────────┤\n",
              "│ lstm_2 (\u001b[38;5;33mLSTM\u001b[0m)                   │ ?                      │   \u001b[38;5;34m0\u001b[0m (unbuilt) │\n",
              "├─────────────────────────────────┼────────────────────────┼───────────────┤\n",
              "│ dense_2 (\u001b[38;5;33mDense\u001b[0m)                 │ ?                      │   \u001b[38;5;34m0\u001b[0m (unbuilt) │\n",
              "└─────────────────────────────────┴────────────────────────┴───────────────┘\n"
            ],
            "text/html": [
              "<pre style=\"white-space:pre;overflow-x:auto;line-height:normal;font-family:Menlo,'DejaVu Sans Mono',consolas,'Courier New',monospace\">┏━━━━━━━━━━━━━━━━━━━━━━━━━━━━━━━━━┳━━━━━━━━━━━━━━━━━━━━━━━━┳━━━━━━━━━━━━━━━┓\n",
              "┃<span style=\"font-weight: bold\"> Layer (type)                    </span>┃<span style=\"font-weight: bold\"> Output Shape           </span>┃<span style=\"font-weight: bold\">       Param # </span>┃\n",
              "┡━━━━━━━━━━━━━━━━━━━━━━━━━━━━━━━━━╇━━━━━━━━━━━━━━━━━━━━━━━━╇━━━━━━━━━━━━━━━┩\n",
              "│ embedding_2 (<span style=\"color: #0087ff; text-decoration-color: #0087ff\">Embedding</span>)         │ ?                      │   <span style=\"color: #00af00; text-decoration-color: #00af00\">0</span> (unbuilt) │\n",
              "├─────────────────────────────────┼────────────────────────┼───────────────┤\n",
              "│ spatial_dropout1d_2             │ ?                      │             <span style=\"color: #00af00; text-decoration-color: #00af00\">0</span> │\n",
              "│ (<span style=\"color: #0087ff; text-decoration-color: #0087ff\">SpatialDropout1D</span>)              │                        │               │\n",
              "├─────────────────────────────────┼────────────────────────┼───────────────┤\n",
              "│ lstm_2 (<span style=\"color: #0087ff; text-decoration-color: #0087ff\">LSTM</span>)                   │ ?                      │   <span style=\"color: #00af00; text-decoration-color: #00af00\">0</span> (unbuilt) │\n",
              "├─────────────────────────────────┼────────────────────────┼───────────────┤\n",
              "│ dense_2 (<span style=\"color: #0087ff; text-decoration-color: #0087ff\">Dense</span>)                 │ ?                      │   <span style=\"color: #00af00; text-decoration-color: #00af00\">0</span> (unbuilt) │\n",
              "└─────────────────────────────────┴────────────────────────┴───────────────┘\n",
              "</pre>\n"
            ]
          },
          "metadata": {}
        },
        {
          "output_type": "display_data",
          "data": {
            "text/plain": [
              "\u001b[1m Total params: \u001b[0m\u001b[38;5;34m0\u001b[0m (0.00 B)\n"
            ],
            "text/html": [
              "<pre style=\"white-space:pre;overflow-x:auto;line-height:normal;font-family:Menlo,'DejaVu Sans Mono',consolas,'Courier New',monospace\"><span style=\"font-weight: bold\"> Total params: </span><span style=\"color: #00af00; text-decoration-color: #00af00\">0</span> (0.00 B)\n",
              "</pre>\n"
            ]
          },
          "metadata": {}
        },
        {
          "output_type": "display_data",
          "data": {
            "text/plain": [
              "\u001b[1m Trainable params: \u001b[0m\u001b[38;5;34m0\u001b[0m (0.00 B)\n"
            ],
            "text/html": [
              "<pre style=\"white-space:pre;overflow-x:auto;line-height:normal;font-family:Menlo,'DejaVu Sans Mono',consolas,'Courier New',monospace\"><span style=\"font-weight: bold\"> Trainable params: </span><span style=\"color: #00af00; text-decoration-color: #00af00\">0</span> (0.00 B)\n",
              "</pre>\n"
            ]
          },
          "metadata": {}
        },
        {
          "output_type": "display_data",
          "data": {
            "text/plain": [
              "\u001b[1m Non-trainable params: \u001b[0m\u001b[38;5;34m0\u001b[0m (0.00 B)\n"
            ],
            "text/html": [
              "<pre style=\"white-space:pre;overflow-x:auto;line-height:normal;font-family:Menlo,'DejaVu Sans Mono',consolas,'Courier New',monospace\"><span style=\"font-weight: bold\"> Non-trainable params: </span><span style=\"color: #00af00; text-decoration-color: #00af00\">0</span> (0.00 B)\n",
              "</pre>\n"
            ]
          },
          "metadata": {}
        },
        {
          "output_type": "stream",
          "name": "stdout",
          "text": [
            "None\n",
            "Epoch 1/10\n",
            "625/625 - 293s - 469ms/step - accuracy: 0.7984 - loss: 0.4369 - val_accuracy: 0.8568 - val_loss: 0.3369\n",
            "Epoch 2/10\n",
            "625/625 - 290s - 464ms/step - accuracy: 0.8896 - loss: 0.2795 - val_accuracy: 0.8624 - val_loss: 0.3571\n",
            "Epoch 3/10\n",
            "625/625 - 341s - 545ms/step - accuracy: 0.9219 - loss: 0.2098 - val_accuracy: 0.8876 - val_loss: 0.3130\n",
            "Epoch 4/10\n",
            "625/625 - 300s - 480ms/step - accuracy: 0.9362 - loss: 0.1701 - val_accuracy: 0.8750 - val_loss: 0.3396\n",
            "Epoch 5/10\n",
            "625/625 - 340s - 545ms/step - accuracy: 0.9553 - loss: 0.1259 - val_accuracy: 0.8716 - val_loss: 0.3913\n"
          ]
        },
        {
          "output_type": "execute_result",
          "data": {
            "text/plain": [
              "<keras.src.callbacks.history.History at 0x7e84be396e50>"
            ]
          },
          "metadata": {},
          "execution_count": 27
        }
      ]
    },
    {
      "cell_type": "markdown",
      "source": [
        "### 4.3 Evaluating and Saving the LSTM Model"
      ],
      "metadata": {
        "id": "hn_WJ0fRsMwI"
      }
    },
    {
      "cell_type": "code",
      "source": [
        "# Evaluate the LSTM model\n",
        "score, acc = model_lstm.evaluate(X_val_dl, y_val_dl, verbose=2, batch_size=batch_size)\n",
        "print(f\"LSTM Model Accuracy: {acc:.4f}\")\n",
        "\n",
        "# To get other metrics, we need to make predictions and convert them from probabilities\n",
        "y_pred_lstm_prob = model_lstm.predict(X_val_dl)\n",
        "y_pred_lstm = np.argmax(y_pred_lstm_prob, axis=1)\n",
        "y_true_lstm = np.argmax(y_val_dl, axis=1)\n",
        "\n",
        "precision_lstm = precision_score(y_true_lstm, y_pred_lstm)\n",
        "recall_lstm = recall_score(y_true_lstm, y_pred_lstm)\n",
        "f1_lstm = f1_score(y_true_lstm, y_pred_lstm)\n",
        "\n",
        "print(f\"Precision: {precision_lstm:.4f}\")\n",
        "print(f\"Recall: {recall_lstm:.4f}\")\n",
        "print(f\"F1-score: {f1_lstm:.4f}\")\n",
        "\n",
        "# Generate and display the confusion matrix\n",
        "cm_lstm = confusion_matrix(y_true_lstm, y_pred_lstm)\n",
        "plt.figure(figsize=(6, 4))\n",
        "sns.heatmap(cm_lstm, annot=True, fmt='d', cmap='Greens', xticklabels=['Negative', 'Positive'], yticklabels=['Negative', 'Positive'])\n",
        "plt.xlabel('Predicted')\n",
        "plt.ylabel('Actual')\n",
        "plt.title('LSTM Confusion Matrix')\n",
        "plt.show()\n",
        "\n",
        "# Save the LSTM model\n",
        "model_lstm.save('lstm_model.h5')\n",
        "with open('tokenizer.pkl', 'wb') as tokenizer_file:\n",
        "    pickle.dump(tokenizer, tokenizer_file)\n",
        "print(\"LSTM Model and tokenizer saved successfully.\")"
      ],
      "metadata": {
        "id": "OAdMKT2hJlW4",
        "colab": {
          "base_uri": "https://localhost:8080/",
          "height": 569
        },
        "outputId": "28037c73-7817-4316-f4cc-78f0b768d4d2"
      },
      "execution_count": 28,
      "outputs": [
        {
          "output_type": "stream",
          "name": "stdout",
          "text": [
            "157/157 - 21s - 132ms/step - accuracy: 0.8758 - loss: 0.3130\n",
            "LSTM Model Accuracy: 0.8876\n",
            "\u001b[1m157/157\u001b[0m \u001b[32m━━━━━━━━━━━━━━━━━━━━\u001b[0m\u001b[37m\u001b[0m \u001b[1m22s\u001b[0m 136ms/step\n",
            "Precision: 0.8594\n",
            "Recall: 0.8952\n",
            "F1-score: 0.8769\n"
          ]
        },
        {
          "output_type": "display_data",
          "data": {
            "text/plain": [
              "<Figure size 600x400 with 2 Axes>"
            ],
            "image/png": "[encoded data removed]"
          },
          "metadata": {}
        },
        {
          "output_type": "stream",
          "name": "stderr",
          "text": [
            "WARNING:absl:You are saving your model as an HDF5 file via `model.save()` or `keras.saving.save_model(model)`. This file format is considered legacy. We recommend using instead the native Keras format, e.g. `model.save('my_model.keras')` or `keras.saving.save_model(model, 'my_model.keras')`. \n"
          ]
        },
        {
          "output_type": "stream",
          "name": "stdout",
          "text": [
            "LSTM Model and tokenizer saved successfully.\n"
          ]
        }
      ]
    }
  ]
}